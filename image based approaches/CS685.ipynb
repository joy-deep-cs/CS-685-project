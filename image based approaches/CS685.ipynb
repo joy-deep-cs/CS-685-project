{
 "cells": [
  {
   "cell_type": "code",
   "execution_count": 1,
   "metadata": {},
   "outputs": [],
   "source": [
    "import os\n",
    "import pandas as pd\n",
    "import numpy as np\n"
   ]
  },
  {
   "cell_type": "code",
   "execution_count": 2,
   "metadata": {},
   "outputs": [
    {
     "name": "stdout",
     "output_type": "stream",
     "text": [
      "            F1        F2        F3        F4        F5      F6  category\n",
      "0     0.051118  0.000000  0.032757  0.093885  0.069411  0.0223        10\n",
      "1     0.048739  0.028780  0.022716  0.034183  0.031309  0.0480         9\n",
      "2     0.051118  0.000000  0.032757  0.093885  0.069411  0.0223         9\n",
      "3     0.000000  0.000000  0.000000  0.009848  0.010914  0.0057         2\n",
      "4     0.022371  0.007782  0.027074  0.004240  0.008708  0.0076        12\n",
      "...        ...       ...       ...       ...       ...     ...       ...\n",
      "1198  0.049687  0.010986  0.007481  0.028120  0.038606  0.0186        12\n",
      "1199  0.058648  0.026149  0.048838  0.020090  0.029494  0.0150        12\n",
      "1200  0.045373  0.024791  0.025915  0.040138  0.041657  0.0318        12\n",
      "1201  0.019282  0.015198  0.012674  0.003577  0.005563  0.0002        12\n",
      "1202  0.049541  0.029570  0.031483  0.060845  0.060958  0.0189        12\n",
      "\n",
      "[1203 rows x 7 columns]\n"
     ]
    }
   ],
   "source": [
    "df=pd.read_csv('/home/pramit67/HOGtrain.csv',delimiter='\\t')\n",
    "print(df)\n",
    "df=df.fillna(0)\n"
   ]
  },
  {
   "cell_type": "code",
   "execution_count": 3,
   "metadata": {},
   "outputs": [
    {
     "name": "stdout",
     "output_type": "stream",
     "text": [
      "           F1        F2        F3        F4        F5        F6  category\n",
      "0    0.051118  0.000000  0.032757  0.093885  0.069411  0.022395         2\n",
      "1    0.048739  0.028780  0.022716  0.034183  0.031309  0.048078        10\n",
      "2    0.051118  0.000000  0.032757  0.093885  0.069411  0.022395         9\n",
      "3    0.000000  0.000000  0.000000  0.009848  0.010914  0.005797         9\n",
      "4    0.022371  0.007782  0.027074  0.004240  0.008708  0.007659         2\n",
      "..        ...       ...       ...       ...       ...       ...       ...\n",
      "198  0.000000  0.000000  0.000000  0.000000  0.000000  0.000000        14\n",
      "199  0.051118  0.000000  0.032757  0.093885  0.069411  0.022395        14\n",
      "200  0.051118  0.000000  0.032757  0.093885  0.069411  0.022395        14\n",
      "201  0.040437  0.019966  0.012179  0.011332  0.006346  0.009844        14\n",
      "202  0.039520  0.017473  0.090387  0.014831  0.014865  0.012408        14\n",
      "\n",
      "[203 rows x 7 columns]\n"
     ]
    }
   ],
   "source": [
    "df1=pd.read_csv('/home/pramit67/HOGtest.csv',delimiter='\\t')\n",
    "print(df1)\n",
    "df1=df1.fillna(0)"
   ]
  },
  {
   "cell_type": "code",
   "execution_count": 4,
   "metadata": {},
   "outputs": [],
   "source": [
    "X_train=df.drop('category',axis=1)\n",
    "y_train=df['category']\n",
    "X_test=df1.drop('category',axis=1)\n",
    "y_test=df1['category']"
   ]
  },
  {
   "cell_type": "code",
   "execution_count": 5,
   "metadata": {},
   "outputs": [
    {
     "name": "stderr",
     "output_type": "stream",
     "text": [
      "Using TensorFlow backend.\n"
     ]
    },
    {
     "name": "stdout",
     "output_type": "stream",
     "text": [
      "MCC boosting 0.0\n",
      "Accuracy score boosting 26\n",
      "Sensitivity micro boosting 0.12807881773399016\n",
      "Specificity macro boosting 0.9\n",
      "Sensitivity micro boosting 0.1\n",
      "Specificity macro  0.90311986863711\n"
     ]
    },
    {
     "name": "stderr",
     "output_type": "stream",
     "text": [
      "/home/pramit67/anaconda3/lib/python3.7/site-packages/sklearn/metrics/classification.py:872: RuntimeWarning: invalid value encountered in double_scalars\n",
      "  mcc = cov_ytyp / np.sqrt(cov_ytyt * cov_ypyp)\n"
     ]
    }
   ],
   "source": [
    "from sklearn.neighbors import KNeighborsClassifier\n",
    "from sklearn.ensemble import RandomForestClassifier \n",
    "from sklearn.svm import SVC \n",
    "model = SVC(kernel='rbf',gamma=6.2,C=8.87,probability=True)\n",
    "from sklearn.model_selection import train_test_split  \n",
    "    \n",
    "#X_train, X_test, y_train, y_test = train_test_split(X, y, test_size = 0.2,random_state=42) \n",
    "\n",
    "\n",
    "model.fit(X_train,y_train)\n",
    "\n",
    "#Predict Output\n",
    "predicted= model.predict(X_test) # 0:Overcast, 2:Mild\n",
    "#    print(predicted)\n",
    "\n",
    "from sklearn.metrics import classification_report,confusion_matrix,accuracy_score,matthews_corrcoef\n",
    "from imblearn.metrics import sensitivity_score,specificity_score\n",
    "\n",
    "print('MCC boosting',matthews_corrcoef(y_test,predicted)) \n",
    "print('Accuracy score boosting',accuracy_score(y_test,predicted,normalize=False))\n",
    "print('Sensitivity micro boosting',sensitivity_score(y_test,predicted,average='micro'))\n",
    "print('Specificity macro boosting',specificity_score(y_test,predicted,average='macro'))\n",
    "print('Sensitivity micro boosting',sensitivity_score(y_test,predicted,average='macro'))\n",
    "print('Specificity macro ',specificity_score(y_test,predicted,average='micro'))"
   ]
  },
  {
   "cell_type": "markdown",
   "metadata": {},
   "source": [
    "# from sklearn.neighbors import KNeighborsClassifier\n",
    "from sklearn.ensemble import RandomForestClassifier \n",
    "from sklearn.ensemble import BaggingClassifier\n",
    "from sklearn.neural_network import MLPClassifier\n",
    "model = BaggingClassifier(base_estimator= MLPClassifier(hidden_layer_sizes=(2,3,3)),n_estimators=3)\n",
    "from sklearn.model_selection import train_test_split  \n",
    "    \n",
    "#X_train, X_test, y_train, y_test = train_test_split(X, y, test_size = 0.2,random_state=0) \n",
    "\n",
    "\n",
    "model.fit(X_train,y_train)\n",
    "\n",
    "#Predict Output\n",
    "predicted= model.predict(X_test) # 0:Overcast, 2:Mild\n",
    "from sklearn.metrics import classification_report,confusion_matrix,accuracy_score,matthews_corrcoef\n",
    "from imblearn.metrics import sensitivity_score,specificity_score\n",
    "print('confusion matrix bagging',confusion_matrix(y_test,predicted))\n",
    "print('classification report bagging',classification_report(y_test,predicted))\n",
    "print('MCC bagging',matthews_corrcoef(y_test,predicted)) \n",
    "print('Accuracy score bagging',accuracy_score(y_test,predicted,normalize=False))\n",
    "print('Sensitivity micro bagging',sensitivity_score(y_test,predicted,average='micro'))\n",
    "print('Specificity macro bagging',specificity_score(y_test,predicted,average='macro'))\n",
    "print('Sensitivity micro bagging',sensitivity_score(y_test,predicted,average='macro'))\n",
    "print('Specificity macro ',specificity_score(y_test,predicted,average='micro'))"
   ]
  },
  {
   "cell_type": "code",
   "execution_count": 6,
   "metadata": {},
   "outputs": [
    {
     "name": "stdout",
     "output_type": "stream",
     "text": [
      "MCC boosting -0.014966112327191144\n",
      "confusion matrix boosting [[ 0  0  0  0  0  0  0  0  0  1  0  0  0  0  0]\n",
      " [ 0  0  0  0  0  0  0  0  0  0  0  0  0  0  0]\n",
      " [ 0  0  0  0  0  0  0  0  0  6  3  0  2  0  0]\n",
      " [ 0  0  0  0  0  0  0  0  0  0  0  0  0  0  0]\n",
      " [ 0  0  0  0  0  0  0  0  0  0  0  0  0  0  0]\n",
      " [ 0  0  0  0  0  0  0  0  0  1  0  0  0  0  0]\n",
      " [ 0  0  0  0  0  0  0  0  0  0  0  0  0  0  0]\n",
      " [ 0  0  0  0  0  0  0  0  0  0  0  0  0  0  1]\n",
      " [ 0  0  0  0  0  0  0  0  0  0  0  0  0  0  0]\n",
      " [ 0  0  4  0  0  0  0  0  1 17  3  1  0  0  1]\n",
      " [ 0  0  0  0  0  1  1  0  0 17  6  0  0  0  1]\n",
      " [ 0  0  0  0  0  0  0  0  0  2  4  0  0  0  0]\n",
      " [ 2  0  1  0  1  1  0  1  0 38 22  2  0  0  0]\n",
      " [ 0  1  1  0  0  0  0  0  0  3  5  0  1  0  0]\n",
      " [ 0  0  2  1  0  1  0  0  1 31 14  1  0  0  0]]\n",
      "classification report boosting               precision    recall  f1-score   support\n",
      "\n",
      "           0       0.00      0.00      0.00         1\n",
      "           1       0.00      0.00      0.00         0\n",
      "           2       0.00      0.00      0.00        11\n",
      "           3       0.00      0.00      0.00         0\n",
      "           4       0.00      0.00      0.00         0\n",
      "           5       0.00      0.00      0.00         1\n",
      "           6       0.00      0.00      0.00         0\n",
      "           7       0.00      0.00      0.00         1\n",
      "           8       0.00      0.00      0.00         0\n",
      "           9       0.15      0.63      0.24        27\n",
      "          10       0.11      0.23      0.14        26\n",
      "          11       0.00      0.00      0.00         6\n",
      "          12       0.00      0.00      0.00        68\n",
      "          13       0.00      0.00      0.00        11\n",
      "          14       0.00      0.00      0.00        51\n",
      "\n",
      "    accuracy                           0.11       203\n",
      "   macro avg       0.02      0.06      0.03       203\n",
      "weighted avg       0.03      0.11      0.05       203\n",
      "\n",
      "Accuracy score boosting 23\n",
      "Sensitivity micro boosting 0.11330049261083744\n",
      "Specificity macro boosting 0.9324116324476168\n",
      "Sensitivity micro boosting 0.057359924026590695\n",
      "Specificity macro  0.9366643209007741\n"
     ]
    },
    {
     "name": "stderr",
     "output_type": "stream",
     "text": [
      "/home/pramit67/anaconda3/lib/python3.7/site-packages/sklearn/metrics/classification.py:1437: UndefinedMetricWarning: Precision and F-score are ill-defined and being set to 0.0 in labels with no predicted samples.\n",
      "  'precision', 'predicted', average, warn_for)\n",
      "/home/pramit67/anaconda3/lib/python3.7/site-packages/sklearn/metrics/classification.py:1439: UndefinedMetricWarning: Recall and F-score are ill-defined and being set to 0.0 in labels with no true samples.\n",
      "  'recall', 'true', average, warn_for)\n",
      "/home/pramit67/anaconda3/lib/python3.7/site-packages/imblearn/metrics/_classification.py:241: UndefinedMetricWarning: Sensitivity is ill-defined and being set to 0.0 in labels with no true samples.\n",
      "  average, warn_for)\n"
     ]
    }
   ],
   "source": [
    "from sklearn.ensemble import GradientBoostingClassifier\n",
    "gb_clf = GradientBoostingClassifier(n_estimators=20, max_features=2, max_depth=4, random_state=0)\n",
    "gb_clf.fit(X_train, y_train)\n",
    "#joblib.dump(gb_clf, '/content/drive/My Drive/SML_PROJECT/SML_MODEL_DATA/GradienBoosting.pkl')\n",
    "\n",
    "predicted= gb_clf.predict(X_test) # 0:Overcast, 2:Mild\n",
    "from sklearn.metrics import classification_report,confusion_matrix,accuracy_score,matthews_corrcoef\n",
    "from imblearn.metrics import sensitivity_score,specificity_score\n",
    "\n",
    "print('MCC boosting',matthews_corrcoef(y_test,predicted)) \n",
    "print('confusion matrix boosting',confusion_matrix(y_test,predicted))\n",
    "print('classification report boosting',classification_report(y_test,predicted))\n",
    "print('Accuracy score boosting',accuracy_score(y_test,predicted,normalize=False))\n",
    "print('Sensitivity micro boosting',sensitivity_score(y_test,predicted,average='micro'))\n",
    "print('Specificity macro boosting',specificity_score(y_test,predicted,average='macro'))\n",
    "print('Sensitivity micro boosting',sensitivity_score(y_test,predicted,average='macro'))\n",
    "print('Specificity macro ',specificity_score(y_test,predicted,average='micro'))"
   ]
  },
  {
   "cell_type": "code",
   "execution_count": 8,
   "metadata": {},
   "outputs": [
    {
     "name": "stdout",
     "output_type": "stream",
     "text": [
      "confusion matrix RF [[ 0  0  0  0  0  0  0  1  0  0  0  0  0]\n",
      " [ 0  0  0  0  0  0  0  4  3  0  4  0  0]\n",
      " [ 0  0  0  0  0  0  0  0  0  0  0  0  0]\n",
      " [ 0  0  0  0  0  0  0  0  1  0  0  0  0]\n",
      " [ 0  0  0  0  0  0  0  0  0  0  0  0  0]\n",
      " [ 0  0  0  0  0  0  0  0  0  0  0  0  1]\n",
      " [ 0  0  0  0  0  0  0  0  0  0  0  0  0]\n",
      " [ 0  4  0  0  0  0  1 14  5  1  1  0  1]\n",
      " [ 1  2  0  1  1  0  0 15  5  0  0  0  1]\n",
      " [ 0  0  0  0  0  0  0  3  3  0  0  0  0]\n",
      " [ 2  0  0  0  0  1  0 34 27  2  2  0  0]\n",
      " [ 0  1  0  0  0  0  0  3  6  0  1  0  0]\n",
      " [ 0  2  1  1  0  0  0 25 21  1  0  0  0]]\n",
      "classification report RF               precision    recall  f1-score   support\n",
      "\n",
      "           0       0.00      0.00      0.00         1\n",
      "           2       0.00      0.00      0.00        11\n",
      "           3       0.00      0.00      0.00         0\n",
      "           5       0.00      0.00      0.00         1\n",
      "           6       0.00      0.00      0.00         0\n",
      "           7       0.00      0.00      0.00         1\n",
      "           8       0.00      0.00      0.00         0\n",
      "           9       0.14      0.52      0.22        27\n",
      "          10       0.07      0.19      0.10        26\n",
      "          11       0.00      0.00      0.00         6\n",
      "          12       0.25      0.03      0.05        68\n",
      "          13       0.00      0.00      0.00        11\n",
      "          14       0.00      0.00      0.00        51\n",
      "\n",
      "    accuracy                           0.10       203\n",
      "   macro avg       0.04      0.06      0.03       203\n",
      "weighted avg       0.11      0.10      0.06       203\n",
      "\n",
      "MCC RF -0.03720956771174833\n",
      "Accuracy RF 21\n",
      "Sensitivity RF 0.10344827586206896\n",
      "Specificity RF 0.9206401498550338\n",
      "Sensitivity RF 0.056941382733237934\n",
      "Specificity RF  0.9252873563218391\n"
     ]
    },
    {
     "name": "stderr",
     "output_type": "stream",
     "text": [
      "/home/pramit67/anaconda3/lib/python3.7/site-packages/sklearn/metrics/classification.py:1437: UndefinedMetricWarning: Precision and F-score are ill-defined and being set to 0.0 in labels with no predicted samples.\n",
      "  'precision', 'predicted', average, warn_for)\n",
      "/home/pramit67/anaconda3/lib/python3.7/site-packages/sklearn/metrics/classification.py:1439: UndefinedMetricWarning: Recall and F-score are ill-defined and being set to 0.0 in labels with no true samples.\n",
      "  'recall', 'true', average, warn_for)\n",
      "/home/pramit67/anaconda3/lib/python3.7/site-packages/imblearn/metrics/_classification.py:241: UndefinedMetricWarning: Sensitivity is ill-defined and being set to 0.0 in labels with no true samples.\n",
      "  average, warn_for)\n"
     ]
    }
   ],
   "source": [
    "model = RandomForestClassifier(n_estimators=100)\n",
    "model.fit(X_train,y_train)\n",
    "predicted=model.predict(X_test)\n",
    "from sklearn.metrics import classification_report,confusion_matrix,accuracy_score,matthews_corrcoef\n",
    "from imblearn.metrics import sensitivity_score,specificity_score\n",
    "print('confusion matrix RF',confusion_matrix(y_test,predicted))\n",
    "print('classification report RF',classification_report(y_test,predicted))\n",
    "print('MCC RF',matthews_corrcoef(y_test,predicted)) \n",
    "print('Accuracy RF',accuracy_score(y_test,predicted,normalize=False))\n",
    "print('Sensitivity RF',sensitivity_score(y_test,predicted,average='micro'))\n",
    "print('Specificity RF',specificity_score(y_test,predicted,average='macro'))\n",
    "print('Sensitivity RF',sensitivity_score(y_test,predicted,average='macro'))\n",
    "print('Specificity RF ',specificity_score(y_test,predicted,average='micro'))"
   ]
  },
  {
   "cell_type": "code",
   "execution_count": null,
   "metadata": {},
   "outputs": [],
   "source": []
  }
 ],
 "metadata": {
  "kernelspec": {
   "display_name": "Python 3",
   "language": "python",
   "name": "python3"
  },
  "language_info": {
   "codemirror_mode": {
    "name": "ipython",
    "version": 3
   },
   "file_extension": ".py",
   "mimetype": "text/x-python",
   "name": "python",
   "nbconvert_exporter": "python",
   "pygments_lexer": "ipython3",
   "version": "3.7.6"
  }
 },
 "nbformat": 4,
 "nbformat_minor": 2
}
