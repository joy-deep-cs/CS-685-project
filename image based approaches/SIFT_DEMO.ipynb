{
  "nbformat": 4,
  "nbformat_minor": 0,
  "metadata": {
    "kernelspec": {
      "display_name": "Python 3",
      "language": "python",
      "name": "python3"
    },
    "language_info": {
      "codemirror_mode": {
        "name": "ipython",
        "version": 3
      },
      "file_extension": ".py",
      "mimetype": "text/x-python",
      "name": "python",
      "nbconvert_exporter": "python",
      "pygments_lexer": "ipython3",
      "version": "3.7.6"
    },
    "colab": {
      "name": "SIFT_DEMO.ipynb",
      "provenance": []
    }
  },
  "cells": [
    {
      "cell_type": "code",
      "metadata": {
        "id": "dBBhs3_BFTaL"
      },
      "source": [
        "import pandas as pd\n",
        "import numpy as np\n",
        "from sklearn.model_selection import StratifiedShuffleSplit\n",
        "from sklearn.decomposition import PCA\n",
        "from sklearn.preprocessing import StandardScaler\n",
        "import pickle\n",
        "from scipy.cluster.vq import kmeans, vq\n",
        "from skimage import feature"
      ],
      "execution_count": null,
      "outputs": []
    },
    {
      "cell_type": "code",
      "metadata": {
        "id": "-iOwqG3sGB0F"
      },
      "source": [
        ""
      ],
      "execution_count": null,
      "outputs": []
    },
    {
      "cell_type": "code",
      "metadata": {
        "id": "kgR3qxTO6t9Q",
        "colab": {
          "base_uri": "https://localhost:8080/",
          "height": 34
        },
        "outputId": "32ea95a0-4dc0-4315-8a75-3f7722667cb9"
      },
      "source": [
        "from google.colab import drive\n",
        "drive.mount('/content/drive')"
      ],
      "execution_count": null,
      "outputs": [
        {
          "output_type": "stream",
          "text": [
            "Drive already mounted at /content/drive; to attempt to forcibly remount, call drive.mount(\"/content/drive\", force_remount=True).\n"
          ],
          "name": "stdout"
        }
      ]
    },
    {
      "cell_type": "code",
      "metadata": {
        "id": "7FafnubZFbMt",
        "colab": {
          "base_uri": "https://localhost:8080/",
          "height": 119
        },
        "outputId": "0a40e310-8790-48ee-d0e2-307b644127aa"
      },
      "source": [
        "!pip3 uninstall opencv-python\n",
        "!pip3 uninstall opencv-contrib-python"
      ],
      "execution_count": null,
      "outputs": [
        {
          "output_type": "stream",
          "text": [
            "\u001b[33mWARNING: Skipping opencv-python as it is not installed.\u001b[0m\n",
            "Uninstalling opencv-contrib-python-4.1.2.30:\n",
            "  Would remove:\n",
            "    /usr/local/lib/python3.6/dist-packages/opencv_contrib_python-4.1.2.30.dist-info/*\n",
            "Proceed (y/n)? y\n",
            "  Successfully uninstalled opencv-contrib-python-4.1.2.30\n"
          ],
          "name": "stdout"
        }
      ]
    },
    {
      "cell_type": "code",
      "metadata": {
        "id": "GEtJVqiIFTaR",
        "colab": {
          "base_uri": "https://localhost:8080/",
          "height": 258
        },
        "outputId": "e555ad21-1841-4470-d1b0-428abce868c8"
      },
      "source": [
        "## pip install opencv-contrib-python \n",
        "!pip3 install opencv-python==3.4.2.16\n",
        "!pip3 install opencv-contrib-python==3.4.2.16"
      ],
      "execution_count": null,
      "outputs": [
        {
          "output_type": "stream",
          "text": [
            "Collecting opencv-python==3.4.2.16\n",
            "\u001b[?25l  Downloading https://files.pythonhosted.org/packages/fa/7d/5042b668a8ed41d2a80b8c172f5efcd572e3c046c75ae029407e19b7fc68/opencv_python-3.4.2.16-cp36-cp36m-manylinux1_x86_64.whl (25.0MB)\n",
            "\u001b[K     |████████████████████████████████| 25.0MB 1.3MB/s \n",
            "\u001b[?25hRequirement already satisfied: numpy>=1.11.3 in /usr/local/lib/python3.6/dist-packages (from opencv-python==3.4.2.16) (1.18.4)\n",
            "\u001b[31mERROR: albumentations 0.1.12 has requirement imgaug<0.2.7,>=0.2.5, but you'll have imgaug 0.2.9 which is incompatible.\u001b[0m\n",
            "Installing collected packages: opencv-python\n",
            "Successfully installed opencv-python-3.4.2.16\n",
            "Collecting opencv-contrib-python==3.4.2.16\n",
            "\u001b[?25l  Downloading https://files.pythonhosted.org/packages/08/f1/66330f4042c4fb3b2d77a159db8e8916d9cdecc29bc8c1f56bc7f8a9bec9/opencv_contrib_python-3.4.2.16-cp36-cp36m-manylinux1_x86_64.whl (30.6MB)\n",
            "\u001b[K     |████████████████████████████████| 30.6MB 160kB/s \n",
            "\u001b[?25hRequirement already satisfied: numpy>=1.11.3 in /usr/local/lib/python3.6/dist-packages (from opencv-contrib-python==3.4.2.16) (1.18.4)\n",
            "Installing collected packages: opencv-contrib-python\n",
            "Successfully installed opencv-contrib-python-3.4.2.16\n"
          ],
          "name": "stdout"
        }
      ]
    },
    {
      "cell_type": "code",
      "metadata": {
        "id": "bN9G1JxoFTaW"
      },
      "source": [
        "import matplotlib.pyplot as plt\n",
        "import cv2"
      ],
      "execution_count": null,
      "outputs": []
    },
    {
      "cell_type": "code",
      "metadata": {
        "id": "h86J6uedFTaa",
        "colab": {
          "base_uri": "https://localhost:8080/",
          "height": 54
        },
        "outputId": "ef376f28-7814-47f2-b055-31e5356aaaed"
      },
      "source": [
        "import numpy as np\n",
        "import cv2\n",
        "import os\n",
        "import re\n",
        "import imutils\n",
        "import pandas as pd\n",
        "from skimage import feature\n",
        "from sklearn.svm import SVC \n",
        "import pickle\n",
        "numbers = re.compile(r'(\\d+)')\n",
        "def numericalSort(value):\n",
        "    parts = numbers.split(value)\n",
        "    parts[1::2] = map(int, parts[1::2])\n",
        "    return parts\n",
        "IMG_DIR = '/content/drive/My Drive/Data/tt_train/'\n",
        "IMG_DIR1='/content/drive/My Drive/Data/tt_test/'\n",
        "count=0\n",
        "data1=pd.read_csv('/content/drive/My Drive/Data/tt-train.csv')\n",
        "data3=pd.read_csv('/content/drive/My Drive/Data/tt-test.csv')\n",
        "labels=data1['Category']\n",
        "filenames=list(os.listdir(IMG_DIR))\n",
        "filenames1=list(os.listdir(IMG_DIR1))\n",
        "print(filenames)\n",
        "filenames=sorted(filenames,key=numericalSort)\n",
        "filenames1=sorted(filenames1,key=numericalSort)\n",
        "data=[]\n",
        "data2=[]"
      ],
      "execution_count": null,
      "outputs": [
        {
          "output_type": "stream",
          "text": [
            "['31.png', '2743.png', '2089.png', '46.png', '2107.png', '2101.png', '2096.png', '2112.png', '2106.png', '2076.png', '2773.png', '2117.png', '2781.png', '2768.png', '2118.png', '2769.png', '2780.png', '6.png', '27.png', '2103.png', '2075.png', '2761.png', '23.png', '2778.png', '22.png', '2734.png', '2776.png', '2764.png', '43.png', '2767.png', '19.png', '2110.png', '2737.png', '38.png', '2.png', '25.png', '41.png', '2115.png', '1.png', '48.png', '2077.png', '2747.png', '2079.png', '2099.png', '2071.png', '2080.png', '2105.png', '2090.png', '4.png', '30.png', '2741.png', '26.png', '12.png', '2766.png', '20.png', '44.png', '21.png', '2757.png', '2088.png', '2092.png', '2777.png', '42.png', '2083.png', '2100.png', '2733.png', '45.png', '2084.png', '10.png', '2759.png', '2756.png', '2774.png', '2739.png', '2093.png', '2755.png', '35.png', '2098.png', '2102.png', '2738.png', '2763.png', '2735.png', '32.png', '17.png', '33.png', '8.png', '2120.png', '15.png', '2775.png', '2751.png', '9.png', '2750.png', '47.png', '2094.png', '2760.png', '29.png', '16.png', '11.png', '2074.png', '2770.png', '7.png', '2765.png', '36.png', '2758.png', '2740.png', '37.png', '2086.png', '2748.png', '2081.png', '50.png', '28.png', '2078.png', '49.png', '2113.png', '2749.png', '2119.png', '2736.png', '34.png', '39.png', '2771.png', '18.png', '2754.png', '2109.png', '2753.png', '2082.png', '3.png', '5.png', '40.png', '2087.png', '2114.png', '2104.png', '2091.png', '2746.png', '2745.png', '2744.png', '2752.png', '2732.png', '2762.png', '2085.png', '2108.png', '24.png', '2742.png', '2095.png', '2116.png', '13.png', '14.png', '2097.png', '2073.png', '2772.png', '2111.png', '2072.png', '2779.png']\n"
          ],
          "name": "stdout"
        }
      ]
    },
    {
      "cell_type": "code",
      "metadata": {
        "id": "18WVCUPGFTa5"
      },
      "source": [
        "desc_list_train=[]\n",
        "desc_list_test=[]\n",
        "for img in filenames:\n",
        "    image = cv2.imread(os.path.join(IMG_DIR,img),0)\n",
        "    \n",
        "    sift = cv2.xfeatures2d.SIFT_create()\n",
        "    keypoints_sift,desc= sift.detectAndCompute(image, None)\n",
        "    if len(keypoints_sift)>0:\n",
        "        desc_list_train.append(desc) \n",
        "desc_list=np.array(desc_list)\n",
        "for img in filenames1:\n",
        "    image = cv2.imread(os.path.join(IMG_DIR1,img),0)\n",
        "   # image = cv2.cvtColor(image, cv2.COLOR_BGR2GRAY)\n",
        "    sift = cv2.xfeatures2d.SIFT_create()\n",
        "    keypoints_sift,desc= sift.detectAndCompute(image, None)\n",
        "    if len(keypoints_sift)>0:\n",
        "        desc_list_test.append(desc) \n",
        "    "
      ],
      "execution_count": null,
      "outputs": []
    },
    {
      "cell_type": "code",
      "metadata": {
        "id": "oQA7ga_mj5Oq"
      },
      "source": [
        "desc_float_train=[]\n",
        "desc_float_test=[]\n",
        "for i in range(0,len(desc_list_train)):\n",
        "    for item in desc_list_train[i]:\n",
        "        desc_float_train.append(item)\n",
        "for i in range(0,len(desc_list_test)):\n",
        "    for item in desc_list_test[i]:\n",
        "        desc_float_test.append(item)"
      ],
      "execution_count": null,
      "outputs": []
    },
    {
      "cell_type": "code",
      "metadata": {
        "id": "Tn2VBk8vFTbP"
      },
      "source": [
        "desc_float_train=np.array(desc_float_train)\n",
        "desc_float_test=np.array(desc_float_test)"
      ],
      "execution_count": null,
      "outputs": []
    },
    {
      "cell_type": "code",
      "metadata": {
        "id": "yZj5ANAKFTbT",
        "colab": {
          "base_uri": "https://localhost:8080/",
          "height": 34
        },
        "outputId": "ed13aa27-8884-4f09-d025-a157ff618bae"
      },
      "source": [
        "desc_float_train.shape\n",
        "desc_float_test.shape"
      ],
      "execution_count": null,
      "outputs": [
        {
          "output_type": "execute_result",
          "data": {
            "text/plain": [
              "(23338, 128)"
            ]
          },
          "metadata": {
            "tags": []
          },
          "execution_count": 43
        }
      ]
    },
    {
      "cell_type": "code",
      "metadata": {
        "id": "cXxK-SOskm3P"
      },
      "source": [
        "desc_list_train=np.array(desc_list_train)\n",
        "desc_list_test=np.array(desc_list_test)"
      ],
      "execution_count": null,
      "outputs": []
    },
    {
      "cell_type": "code",
      "metadata": {
        "id": "JhFhwdrVFTbW",
        "colab": {
          "base_uri": "https://localhost:8080/",
          "height": 34
        },
        "outputId": "de2b40fa-e547-4e05-a994-e17b96fa0fab"
      },
      "source": [
        "desc_list_train.shape\n",
        "desc_list_test.shape"
      ],
      "execution_count": null,
      "outputs": [
        {
          "output_type": "execute_result",
          "data": {
            "text/plain": [
              "(60,)"
            ]
          },
          "metadata": {
            "tags": []
          },
          "execution_count": 46
        }
      ]
    },
    {
      "cell_type": "code",
      "metadata": {
        "id": "NBLQQ3lQFTbc"
      },
      "source": [
        "# clustering sift features "
      ],
      "execution_count": null,
      "outputs": []
    },
    {
      "cell_type": "code",
      "metadata": {
        "id": "fw43gLqzFTbf"
      },
      "source": [
        "k = 150\n",
        "vocab, var = kmeans(desc_float_train, k, 1) \n",
        "sz=len(data1)\n",
        "features = np.zeros((sz, k), \"float32\")\n",
        "for i in range(sz-2):\n",
        "    words, distance = vq(desc_list_train[i],vocab)\n",
        "    for w in words:\n",
        "        features[i][w] += 1"
      ],
      "execution_count": null,
      "outputs": []
    },
    {
      "cell_type": "code",
      "metadata": {
        "id": "IL1Kf_0rpQGl"
      },
      "source": [
        "arr1=np.empty(shape=(0,150))"
      ],
      "execution_count": null,
      "outputs": []
    },
    {
      "cell_type": "code",
      "metadata": {
        "id": "ozAb4n6HpGFx"
      },
      "source": [
        "arr1=np.concatenate([arr1,features])"
      ],
      "execution_count": null,
      "outputs": []
    },
    {
      "cell_type": "code",
      "metadata": {
        "id": "B_YhOelQFTch"
      },
      "source": [
        "k = 50\n",
        "vocab, var = kmeans(desc_float_test, k, 1) \n",
        "sz=len(data3)\n",
        "features = np.zeros((sz, k), \"float32\")\n",
        "for i in range(sz-1):\n",
        "    words, distance = vq(desc_list_test[i],vocab)\n",
        "    for w in words:\n",
        "        features[i][w] += 1"
      ],
      "execution_count": null,
      "outputs": []
    },
    {
      "cell_type": "code",
      "metadata": {
        "id": "vbyuDmWiqTwh"
      },
      "source": [
        "arr2=np.empty(shape=(60,100))"
      ],
      "execution_count": null,
      "outputs": []
    },
    {
      "cell_type": "code",
      "metadata": {
        "id": "z-n7LqrvFTck"
      },
      "source": [
        "arr2=np.concatenate([arr2,features],axis=1)"
      ],
      "execution_count": null,
      "outputs": []
    },
    {
      "cell_type": "code",
      "metadata": {
        "id": "qo4S9p9IFTcn",
        "colab": {
          "base_uri": "https://localhost:8080/",
          "height": 34
        },
        "outputId": "26bc8652-f693-4f18-f375-9906bccaf5a3"
      },
      "source": [
        "arr2=np.array(arr2)\n",
        "arr2.shape\n",
        "#X_test=np.concatenate((arrt,arr2),axis=1)"
      ],
      "execution_count": null,
      "outputs": [
        {
          "output_type": "execute_result",
          "data": {
            "text/plain": [
              "(60, 150)"
            ]
          },
          "metadata": {
            "tags": []
          },
          "execution_count": 158
        }
      ]
    },
    {
      "cell_type": "code",
      "metadata": {
        "id": "SHhWZiRaqqqh"
      },
      "source": [
        "X_train=arr1\n",
        "X_test=arr2"
      ],
      "execution_count": null,
      "outputs": []
    },
    {
      "cell_type": "code",
      "metadata": {
        "id": "pWAfCnnaFTct",
        "colab": {
          "base_uri": "https://localhost:8080/",
          "height": 34
        },
        "outputId": "451d1165-a017-4498-8558-375c009b5c5c"
      },
      "source": [
        "X_test.shape"
      ],
      "execution_count": null,
      "outputs": [
        {
          "output_type": "execute_result",
          "data": {
            "text/plain": [
              "(60, 150)"
            ]
          },
          "metadata": {
            "tags": []
          },
          "execution_count": 160
        }
      ]
    },
    {
      "cell_type": "code",
      "metadata": {
        "id": "EiSM1OETq2Ww"
      },
      "source": [
        "from sklearn.preprocessing import StandardScaler"
      ],
      "execution_count": null,
      "outputs": []
    },
    {
      "cell_type": "code",
      "metadata": {
        "id": "QMRcpPrSxBz6"
      },
      "source": [
        "sscaler=StandardScaler()"
      ],
      "execution_count": null,
      "outputs": []
    },
    {
      "cell_type": "code",
      "metadata": {
        "id": "YcBtaHhMFTcz"
      },
      "source": [
        "#X_test = sscaler.fit_transform(X_test)\n",
        "X_train= sscaler.fit_transform(X_train)"
      ],
      "execution_count": null,
      "outputs": []
    },
    {
      "cell_type": "code",
      "metadata": {
        "id": "GGKEJ7jKFTc7"
      },
      "source": [
        "from sklearn import svm"
      ],
      "execution_count": null,
      "outputs": []
    },
    {
      "cell_type": "code",
      "metadata": {
        "id": "EQK_CaS8FTc-"
      },
      "source": [
        "clf = svm.SVC(kernel='linear')"
      ],
      "execution_count": null,
      "outputs": []
    },
    {
      "cell_type": "code",
      "metadata": {
        "id": "KtFj12l9sQXI",
        "colab": {
          "base_uri": "https://localhost:8080/",
          "height": 238
        },
        "outputId": "8c4ad319-7eaf-4128-b89c-4e3c1025c7b4"
      },
      "source": [
        "print(X_train)"
      ],
      "execution_count": null,
      "outputs": [
        {
          "output_type": "stream",
          "text": [
            "[[ 0.26539344  1.41395     0.24209532 ...  1.06734313 -0.55074724\n",
            "   0.18233124]\n",
            " [ 0.26539344  4.66856637  3.82237827 ... -0.10556141  0.85422021\n",
            "   1.82331239]\n",
            " [ 0.26539344  3.04125818 -0.78084266 ... -0.10556141  0.01123974\n",
            "   2.37030611]\n",
            " ...\n",
            " [-0.35662243  0.87151394  5.35678525 ... -0.10556141  0.01123974\n",
            "   0.18233124]\n",
            " [-0.9786383  -0.75579425 -0.78084266 ... -0.69201368 -1.11273422\n",
            "  -0.9116562 ]\n",
            " [-0.9786383  -0.75579425 -0.78084266 ... -0.69201368 -1.11273422\n",
            "  -0.9116562 ]]\n"
          ],
          "name": "stdout"
        }
      ]
    },
    {
      "cell_type": "code",
      "metadata": {
        "id": "ZeDWPtYUFTdA",
        "colab": {
          "base_uri": "https://localhost:8080/",
          "height": 85
        },
        "outputId": "dcfec974-c5ca-4e42-a102-42917379ccf8"
      },
      "source": [
        "clf.fit(X_train,data1['Category'])"
      ],
      "execution_count": null,
      "outputs": [
        {
          "output_type": "execute_result",
          "data": {
            "text/plain": [
              "SVC(C=1.0, break_ties=False, cache_size=200, class_weight=None, coef0=0.0,\n",
              "    decision_function_shape='ovr', degree=3, gamma='scale', kernel='linear',\n",
              "    max_iter=-1, probability=False, random_state=None, shrinking=True,\n",
              "    tol=0.001, verbose=False)"
            ]
          },
          "metadata": {
            "tags": []
          },
          "execution_count": 152
        }
      ]
    },
    {
      "cell_type": "code",
      "metadata": {
        "id": "V3DivUifFTdC"
      },
      "source": [
        "predicted=clf.predict(X_test)\n",
        "with open('/content/drive/My Drive/Data/SIFT.csv','ab')as f:\n",
        "  np.savetxt(f,predicted,delimiter=',')"
      ],
      "execution_count": null,
      "outputs": []
    },
    {
      "cell_type": "code",
      "metadata": {
        "id": "ryaCTB3RwPHX",
        "colab": {
          "base_uri": "https://localhost:8080/",
          "height": 394
        },
        "outputId": "2aea2a27-76dc-4325-f61b-972719d18616"
      },
      "source": [
        "y_test=data3['Category']\n",
        "from sklearn.metrics import classification_report,confusion_matrix,accuracy_score,matthews_corrcoef\n",
        "from imblearn.metrics import sensitivity_score,specificity_score\n",
        "print('confusion matrix SVM',confusion_matrix(y_test,predicted))\n",
        "print('classification report SVM',classification_report(y_test,predicted))\n",
        "print('MCC SVM',matthews_corrcoef(y_test,predicted)) \n",
        "print('Accuracy SVM',accuracy_score(y_test,predicted,normalize=False))\n",
        "print('Sensitivity SVM',sensitivity_score(y_test,predicted,average='micro'))\n",
        "print('Specificity SVM',specificity_score(y_test,predicted,average='macro'))\n",
        "print('Sensitivity SVM',sensitivity_score(y_test,predicted,average='macro'))\n",
        "print('Specificity SVM ',specificity_score(y_test,predicted,average='micro'))\n",
        "with open( '/content/drive/My Drive/SML_PROJECT/SML_MODEL_DATA/SVM_SIFT.pkl','wb')as F:\n",
        "  pickle.dump(ans,F)"
      ],
      "execution_count": null,
      "outputs": [
        {
          "output_type": "stream",
          "text": [
            "confusion matrix SVM [[ 0 20  0]\n",
            " [ 0 19  1]\n",
            " [ 0 17  3]]\n",
            "classification report SVM               precision    recall  f1-score   support\n",
            "\n",
            "           0       0.00      0.00      0.00        20\n",
            "           1       0.34      0.95      0.50        20\n",
            "           2       0.75      0.15      0.25        20\n",
            "\n",
            "    accuracy                           0.37        60\n",
            "   macro avg       0.36      0.37      0.25        60\n",
            "weighted avg       0.36      0.37      0.25        60\n",
            "\n",
            "MCC SVM 0.11572751247156894\n",
            "Accuracy SVM 22\n",
            "Sensitivity SVM 0.36666666666666664\n",
            "Specificity SVM 0.6833333333333332\n",
            "Sensitivity SVM 0.36666666666666664\n",
            "Specificity SVM  0.6833333333333333\n"
          ],
          "name": "stdout"
        },
        {
          "output_type": "stream",
          "text": [
            "/usr/local/lib/python3.6/dist-packages/sklearn/metrics/_classification.py:1272: UndefinedMetricWarning: Precision and F-score are ill-defined and being set to 0.0 in labels with no predicted samples. Use `zero_division` parameter to control this behavior.\n",
            "  _warn_prf(average, modifier, msg_start, len(result))\n"
          ],
          "name": "stderr"
        }
      ]
    },
    {
      "cell_type": "code",
      "metadata": {
        "id": "ANLlEsBUFTdn"
      },
      "source": [
        "y_test=data3['Category']\n",
        "from sklearn.neighbors import KNeighborsClassifier\n",
        "from sklearn.ensemble import RandomForestClassifier \n",
        "from sklearn.ensemble import BaggingClassifier\n",
        "from sklearn.neural_network import MLPClassifier\n",
        "model = BaggingClassifier(base_estimator= MLPClassifier(hidden_layer_sizes=(2,3,3)),n_estimators=3)\n",
        "from sklearn.model_selection import train_test_split "
      ],
      "execution_count": null,
      "outputs": []
    },
    {
      "cell_type": "code",
      "metadata": {
        "id": "DD_XR_y0x2Tm"
      },
      "source": [
        "model = RandomForestClassifier(n_estimators=100)"
      ],
      "execution_count": null,
      "outputs": []
    },
    {
      "cell_type": "code",
      "metadata": {
        "id": "o9QpkNS7x5eI"
      },
      "source": [
        "model.fit(X_train,data1['Category'])\n",
        "predicted=clf.predict(X_test)\n",
        "with open('/content/drive/My Drive/Data/SIFTRF.csv','ab')as f:\n",
        "  np.savetxt(f,predicted,delimiter=',')"
      ],
      "execution_count": null,
      "outputs": []
    },
    {
      "cell_type": "code",
      "metadata": {
        "id": "MAXuDEeIyEcV",
        "colab": {
          "base_uri": "https://localhost:8080/",
          "height": 394
        },
        "outputId": "7813171d-9cb7-4256-9043-993b6988c0da"
      },
      "source": [
        "y_test=data3['Category']\n",
        "from sklearn.metrics import classification_report,confusion_matrix,accuracy_score,matthews_corrcoef\n",
        "from imblearn.metrics import sensitivity_score,specificity_score\n",
        "print('confusion matrix RF',confusion_matrix(y_test,predicted))\n",
        "print('classification report RF',classification_report(y_test,predicted))\n",
        "print('MCC RF',matthews_corrcoef(y_test,predicted)) \n",
        "print('Accuracy RF',accuracy_score(y_test,predicted,normalize=False))\n",
        "print('Sensitivity RF',sensitivity_score(y_test,predicted,average='micro'))\n",
        "print('Specificity RF',specificity_score(y_test,predicted,average='macro'))\n",
        "print('Sensitivity RF',sensitivity_score(y_test,predicted,average='macro'))\n",
        "print('Specificity RF ',specificity_score(y_test,predicted,average='micro'))\n",
        "with open( '/content/drive/My Drive/SML_PROJECT/SML_MODEL_DATA/RF_SIFT.pkl','wb')as F:\n",
        "  pickle.dump(ans,F)"
      ],
      "execution_count": null,
      "outputs": [
        {
          "output_type": "stream",
          "text": [
            "confusion matrix RF [[ 0 20  0]\n",
            " [ 0 19  1]\n",
            " [ 0 17  3]]\n",
            "classification report RF               precision    recall  f1-score   support\n",
            "\n",
            "           0       0.00      0.00      0.00        20\n",
            "           1       0.34      0.95      0.50        20\n",
            "           2       0.75      0.15      0.25        20\n",
            "\n",
            "    accuracy                           0.37        60\n",
            "   macro avg       0.36      0.37      0.25        60\n",
            "weighted avg       0.36      0.37      0.25        60\n",
            "\n",
            "MCC RF 0.11572751247156894\n",
            "Accuracy RF 22\n",
            "Sensitivity RF 0.36666666666666664\n",
            "Specificity RF 0.6833333333333332\n",
            "Sensitivity RF 0.36666666666666664\n",
            "Specificity RF  0.6833333333333333\n"
          ],
          "name": "stdout"
        },
        {
          "output_type": "stream",
          "text": [
            "/usr/local/lib/python3.6/dist-packages/sklearn/metrics/_classification.py:1272: UndefinedMetricWarning: Precision and F-score are ill-defined and being set to 0.0 in labels with no predicted samples. Use `zero_division` parameter to control this behavior.\n",
            "  _warn_prf(average, modifier, msg_start, len(result))\n"
          ],
          "name": "stderr"
        }
      ]
    },
    {
      "cell_type": "code",
      "metadata": {
        "id": "SGuTW_7kydfu"
      },
      "source": [
        ""
      ],
      "execution_count": null,
      "outputs": []
    },
    {
      "cell_type": "code",
      "metadata": {
        "id": "4YgBYuJPwpCC",
        "colab": {
          "base_uri": "https://localhost:8080/",
          "height": 428
        },
        "outputId": "d7df76ab-eabe-4852-f6ad-22da4c899055"
      },
      "source": [
        "\n",
        "from sklearn.ensemble import GradientBoostingClassifier\n",
        "gb_clf = GradientBoostingClassifier(n_estimators=20, max_features=2, max_depth=4, random_state=0)\n",
        "gb_clf.fit(X_train, data1['Category'])\n",
        "#joblib.dump(gb_clf, '/content/drive/My Drive/SML_PROJECT/SML_MODEL_DATA/GradienBoosting.pkl')\n",
        "\n",
        "predicted= gb_clf.predict(X_test) # 0:Overcast, 2:Mild\n",
        "from sklearn.metrics import classification_report,confusion_matrix,accuracy_score,matthews_corrcoef\n",
        "from imblearn.metrics import sensitivity_score,specificity_score\n",
        "\n",
        "print('MCC boosting',matthews_corrcoef(y_test,predicted)) \n",
        "print('confusion matrix boosting',confusion_matrix(y_test,predicted))\n",
        "print('classification report boosting',classification_report(y_test,predicted))\n",
        "print('Accuracy score boosting',accuracy_score(y_test,predicted,normalize=False))\n",
        "print('Sensitivity micro boosting',sensitivity_score(y_test,predicted,average='micro'))\n",
        "print('Specificity macro boosting',specificity_score(y_test,predicted,average='macro'))\n",
        "print('Sensitivity micro boosting',sensitivity_score(y_test,predicted,average='macro'))\n",
        "print('Specificity macro ',specificity_score(y_test,predicted,average='micro'))\n",
        "\n",
        "\n",
        "with open('/content/drive/My Drive/SML_PROJECT/SML_MODEL_DATA/Boosting.pkl','wb') as ifp:\n",
        "  pickle.dump(gb_clf,ifp)"
      ],
      "execution_count": null,
      "outputs": [
        {
          "output_type": "stream",
          "text": [
            "/usr/local/lib/python3.6/dist-packages/sklearn/metrics/_classification.py:900: RuntimeWarning: invalid value encountered in double_scalars\n",
            "  mcc = cov_ytyp / np.sqrt(cov_ytyt * cov_ypyp)\n",
            "/usr/local/lib/python3.6/dist-packages/sklearn/metrics/_classification.py:1272: UndefinedMetricWarning: Precision and F-score are ill-defined and being set to 0.0 in labels with no predicted samples. Use `zero_division` parameter to control this behavior.\n",
            "  _warn_prf(average, modifier, msg_start, len(result))\n"
          ],
          "name": "stderr"
        },
        {
          "output_type": "stream",
          "text": [
            "MCC boosting 0.0\n",
            "confusion matrix boosting [[ 0 20  0]\n",
            " [ 0 20  0]\n",
            " [ 0 20  0]]\n",
            "classification report boosting               precision    recall  f1-score   support\n",
            "\n",
            "           0       0.00      0.00      0.00        20\n",
            "           1       0.33      1.00      0.50        20\n",
            "           2       0.00      0.00      0.00        20\n",
            "\n",
            "    accuracy                           0.33        60\n",
            "   macro avg       0.11      0.33      0.17        60\n",
            "weighted avg       0.11      0.33      0.17        60\n",
            "\n",
            "Accuracy score boosting 20\n",
            "Sensitivity micro boosting 0.3333333333333333\n",
            "Specificity macro boosting 0.6666666666666666\n",
            "Sensitivity micro boosting 0.3333333333333333\n",
            "Specificity macro  0.6666666666666666\n"
          ],
          "name": "stdout"
        }
      ]
    },
    {
      "cell_type": "code",
      "metadata": {
        "id": "ThKUM-ih0ENs",
        "colab": {
          "base_uri": "https://localhost:8080/",
          "height": 530
        },
        "outputId": "4ea3dfe6-962a-4558-ec62-e619c423e6a3"
      },
      "source": [
        "from sklearn.neighbors import KNeighborsClassifier\n",
        "from sklearn.ensemble import RandomForestClassifier \n",
        "from sklearn.ensemble import BaggingClassifier\n",
        "from sklearn.neural_network import MLPClassifier\n",
        "model = BaggingClassifier(base_estimator= MLPClassifier(hidden_layer_sizes=(2,3,3)),n_estimators=3)\n",
        "from sklearn.model_selection import train_test_split  \n",
        "    \n",
        "#X_train, X_test, y_train, y_test = train_test_split(X, y, test_size = 0.2,random_state=0) \n",
        "\n",
        "\n",
        "model.fit(X_train,data1['Category'])\n",
        "\n",
        "#Predict Output\n",
        "predicted= model.predict(X_test) # 0:Overcast, 2:Mild\n",
        "from sklearn.metrics import classification_report,confusion_matrix,accuracy_score,matthews_corrcoef\n",
        "from imblearn.metrics import sensitivity_score,specificity_score\n",
        "print('confusion matrix bagging',confusion_matrix(y_test,predicted))\n",
        "print('classification report bagging',classification_report(y_test,predicted))\n",
        "print('MCC bagging',matthews_corrcoef(y_test,predicted)) \n",
        "print('Accuracy score bagging',accuracy_score(y_test,predicted,normalize=False))\n",
        "print('Sensitivity micro bagging',sensitivity_score(y_test,predicted,average='micro'))\n",
        "print('Specificity macro bagging',specificity_score(y_test,predicted,average='macro'))\n",
        "print('Sensitivity micro bagging',sensitivity_score(y_test,predicted,average='macro'))\n",
        "print('Specificity macro ',specificity_score(y_test,predicted,average='micro'))\n",
        "\n",
        "with open('/content/drive/My Drive/SML_PROJECT/SML_MODEL_DATA/BaggingSIFT.pkl','wb') as ifp:\n",
        "  pickle.dump(gb_clf,ifp)"
      ],
      "execution_count": null,
      "outputs": [
        {
          "output_type": "stream",
          "text": [
            "/usr/local/lib/python3.6/dist-packages/sklearn/neural_network/_multilayer_perceptron.py:571: ConvergenceWarning: Stochastic Optimizer: Maximum iterations (200) reached and the optimization hasn't converged yet.\n",
            "  % self.max_iter, ConvergenceWarning)\n",
            "/usr/local/lib/python3.6/dist-packages/sklearn/neural_network/_multilayer_perceptron.py:571: ConvergenceWarning: Stochastic Optimizer: Maximum iterations (200) reached and the optimization hasn't converged yet.\n",
            "  % self.max_iter, ConvergenceWarning)\n"
          ],
          "name": "stderr"
        },
        {
          "output_type": "stream",
          "text": [
            "confusion matrix bagging [[ 0  0 20]\n",
            " [ 0  0 20]\n",
            " [ 0  0 20]]\n",
            "classification report bagging               precision    recall  f1-score   support\n",
            "\n",
            "           0       0.00      0.00      0.00        20\n",
            "           1       0.00      0.00      0.00        20\n",
            "           2       0.33      1.00      0.50        20\n",
            "\n",
            "    accuracy                           0.33        60\n",
            "   macro avg       0.11      0.33      0.17        60\n",
            "weighted avg       0.11      0.33      0.17        60\n",
            "\n",
            "MCC bagging 0.0\n",
            "Accuracy score bagging 20\n",
            "Sensitivity micro bagging 0.3333333333333333\n",
            "Specificity macro bagging 0.6666666666666666\n",
            "Sensitivity micro bagging 0.3333333333333333\n",
            "Specificity macro  0.6666666666666666\n"
          ],
          "name": "stdout"
        },
        {
          "output_type": "stream",
          "text": [
            "/usr/local/lib/python3.6/dist-packages/sklearn/neural_network/_multilayer_perceptron.py:571: ConvergenceWarning: Stochastic Optimizer: Maximum iterations (200) reached and the optimization hasn't converged yet.\n",
            "  % self.max_iter, ConvergenceWarning)\n",
            "/usr/local/lib/python3.6/dist-packages/sklearn/metrics/_classification.py:1272: UndefinedMetricWarning: Precision and F-score are ill-defined and being set to 0.0 in labels with no predicted samples. Use `zero_division` parameter to control this behavior.\n",
            "  _warn_prf(average, modifier, msg_start, len(result))\n",
            "/usr/local/lib/python3.6/dist-packages/sklearn/metrics/_classification.py:900: RuntimeWarning: invalid value encountered in double_scalars\n",
            "  mcc = cov_ytyp / np.sqrt(cov_ytyt * cov_ypyp)\n"
          ],
          "name": "stderr"
        }
      ]
    },
    {
      "cell_type": "code",
      "metadata": {
        "id": "Ud35sxJM0R93"
      },
      "source": [
        ""
      ],
      "execution_count": null,
      "outputs": []
    }
  ]
}